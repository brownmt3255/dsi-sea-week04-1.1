{
 "cells": [
  {
   "cell_type": "markdown",
   "metadata": {
    "button": false,
    "deletable": true,
    "new_sheet": false,
    "run_control": {
     "read_only": false
    }
   },
   "source": [
    "<img src=\"http://static.tvtropes.org/pmwiki/pub/images/acslatersitting_1267.jpg\" alt=\"Title\"/>"
   ]
  },
  {
   "cell_type": "markdown",
   "metadata": {
    "button": false,
    "deletable": true,
    "new_sheet": false,
    "run_control": {
     "read_only": false
    }
   },
   "source": [
    "# Hey there fellow student. Come closer. I want to jive with you for a second."
   ]
  },
  {
   "cell_type": "code",
   "execution_count": 2,
   "metadata": {
    "button": false,
    "collapsed": true,
    "deletable": true,
    "new_sheet": false,
    "run_control": {
     "read_only": false
    }
   },
   "outputs": [],
   "source": [
    "# Take a close look at this string!\n",
    "\n",
    "stringy = \"<div> Address: 1234 Fake Lane, FakeFake Faketown New Jersey, 90048 </div>\"\n",
    "\n",
    "# Wouldn't it be nice to easily find information in strings like this?"
   ]
  },
  {
   "cell_type": "markdown",
   "metadata": {
    "button": false,
    "deletable": true,
    "new_sheet": false,
    "run_control": {
     "read_only": false
    }
   },
   "source": [
    "## Well now you can! With regular expressions, you can quickly search through large amounts of data with a simple set of rules! Let's dig in! "
   ]
  },
  {
   "cell_type": "markdown",
   "metadata": {
    "button": false,
    "deletable": true,
    "new_sheet": false,
    "run_control": {
     "read_only": false
    }
   },
   "source": [
    "<img src=\"http://37.media.tumblr.com/tumblr_m8tx99Cu2x1rdutw3o1_500.gif\" alt=\"Title\" style=\"width: 250px\"/>"
   ]
  },
  {
   "cell_type": "code",
   "execution_count": 3,
   "metadata": {
    "button": false,
    "collapsed": false,
    "deletable": true,
    "new_sheet": false,
    "run_control": {
     "read_only": false
    }
   },
   "outputs": [],
   "source": [
    "import re\n",
    "\n",
    "# The . matches any character except a newline (\\n)\n",
    "m = re.search('.', stringy)\n",
    "\n",
    "# m.group() contains an array of all of our matches. I wonder what this does...\n",
    "#print m.group()"
   ]
  },
  {
   "cell_type": "code",
   "execution_count": 4,
   "metadata": {
    "button": false,
    "collapsed": false,
    "deletable": true,
    "new_sheet": false,
    "run_control": {
     "read_only": false
    }
   },
   "outputs": [],
   "source": [
    "# The ^ matches the start of a string\n",
    "m = re.search('^...', stringy)\n",
    "\n",
    "# Try to guess. What will this print?\n",
    "#print m.group()"
   ]
  },
  {
   "cell_type": "code",
   "execution_count": 5,
   "metadata": {
    "button": false,
    "collapsed": false,
    "deletable": true,
    "new_sheet": false,
    "run_control": {
     "read_only": false
    }
   },
   "outputs": [],
   "source": [
    "# Gnarly dude! You've got this down! Let's add some more!\n",
    "# The $ matches the end of a string\n",
    "m = re.search('...$', stringy)\n",
    "\n",
    "# Try to guess. What will this print?\n",
    "#print m.group()"
   ]
  },
  {
   "cell_type": "code",
   "execution_count": 6,
   "metadata": {
    "button": false,
    "collapsed": false,
    "deletable": true,
    "new_sheet": false,
    "run_control": {
     "read_only": false
    }
   },
   "outputs": [],
   "source": [
    "# The * matches 0 - many repetitions of a string\n",
    "m = re.search('<div>.*x*', stringy)\n",
    "\n",
    "# Try to guess. What will this print?\n",
    "#print m.group()"
   ]
  },
  {
   "cell_type": "code",
   "execution_count": 7,
   "metadata": {
    "button": false,
    "collapsed": false,
    "deletable": true,
    "new_sheet": false,
    "run_control": {
     "read_only": false
    }
   },
   "outputs": [],
   "source": [
    "# The + matches 1 - many repetitions of a string\n",
    "m = re.search('<div>.*Fake+', stringy)\n",
    "\n",
    "# Try to guess. What will this print?\n",
    "#print m.group()"
   ]
  },
  {
   "cell_type": "code",
   "execution_count": 9,
   "metadata": {
    "button": false,
    "collapsed": false,
    "deletable": true,
    "new_sheet": false,
    "run_control": {
     "read_only": false
    }
   },
   "outputs": [],
   "source": [
    "# The ? matches 0 - 1 repetitions of a string\n",
    "m = re.search('.*Fake?', stringy)\n",
    "\n",
    "# Try to guess. What will this print?\n",
    "#print m.group()\n",
    "\n",
    "# If you combine it with the . and * rules, you can return the first instance of a pattern match\n",
    "m = re.search('(.*?)ke', stringy)\n",
    "\n",
    "# Try to guess. What will this print?\n",
    "#print m.group()"
   ]
  },
  {
   "cell_type": "code",
   "execution_count": 10,
   "metadata": {
    "button": false,
    "collapsed": false,
    "deletable": true,
    "new_sheet": false,
    "run_control": {
     "read_only": false
    }
   },
   "outputs": [],
   "source": [
    "# Use () to find whole words, phrases, or regexs\n",
    "m = re.search('(Fake)? Lane.*', stringy)\n",
    "\n",
    "# Try to guess. What will this print?\n",
    "#print m.group()"
   ]
  },
  {
   "cell_type": "code",
   "execution_count": 11,
   "metadata": {
    "button": false,
    "collapsed": false,
    "deletable": true,
    "new_sheet": false,
    "run_control": {
     "read_only": false
    }
   },
   "outputs": [],
   "source": [
    "# This regex: Fake{2,3} matches 2 to 3 copies of the preceding string\n",
    "m = re.search('.*(Fake){2,3}', stringy)\n",
    "\n",
    "# Try to guess. What will this print?\n",
    "#print m.group()"
   ]
  },
  {
   "cell_type": "code",
   "execution_count": 12,
   "metadata": {
    "button": false,
    "collapsed": false,
    "deletable": true,
    "new_sheet": false,
    "run_control": {
     "read_only": false
    }
   },
   "outputs": [],
   "source": [
    "# Use [] to indicate a set of characters\n",
    "m = re.search('<div>.*?FakeF[a-z]?', stringy)\n",
    "\n",
    "# Try to guess. What will this print?\n",
    "#print m.group()"
   ]
  },
  {
   "cell_type": "code",
   "execution_count": 14,
   "metadata": {
    "button": false,
    "collapsed": false,
    "deletable": true,
    "new_sheet": false,
    "run_control": {
     "read_only": false
    }
   },
   "outputs": [],
   "source": [
    "# Use | to denote \"or\" expressions\n",
    "m = re.search('Fake[F|t]', stringy)\n",
    "\n",
    "# Try to guess. What will this print?\n",
    "#print m.group()\n",
    "\n",
    "m = re.search('<div>.*Fake[F|t]?', stringy)\n",
    "\n",
    "# Try to guess. What will this print?\n",
    "#print m.group()"
   ]
  },
  {
   "cell_type": "code",
   "execution_count": 15,
   "metadata": {
    "button": false,
    "collapsed": false,
    "deletable": true,
    "new_sheet": false,
    "run_control": {
     "read_only": false
    }
   },
   "outputs": [],
   "source": [
    "# \\b: matches empty string at beginning or end of word\n",
    "m = re.search('..\\b*Fake\\b*..', stringy)\n",
    "\n",
    "# Try to guess. What will this print?\n",
    "#print m.group()"
   ]
  },
  {
   "cell_type": "code",
   "execution_count": 16,
   "metadata": {
    "button": false,
    "collapsed": false,
    "deletable": true,
    "new_sheet": false,
    "run_control": {
     "read_only": false
    }
   },
   "outputs": [],
   "source": [
    "# \\d: matches a digit character\n",
    "m = re.search('\\d+', stringy)\n",
    "\n",
    "# Try to guess. What will this print?\n",
    "#print m.group()"
   ]
  },
  {
   "cell_type": "code",
   "execution_count": 17,
   "metadata": {
    "button": false,
    "collapsed": false,
    "deletable": true,
    "new_sheet": false,
    "run_control": {
     "read_only": false
    }
   },
   "outputs": [],
   "source": [
    "# \\d: matches a non-digit character\n",
    "m = re.search('\\D+', stringy)\n",
    "\n",
    "# Try to guess. What will this print?\n",
    "#print m.group()"
   ]
  },
  {
   "cell_type": "code",
   "execution_count": 18,
   "metadata": {
    "button": false,
    "collapsed": false,
    "deletable": true,
    "new_sheet": false,
    "run_control": {
     "read_only": false
    }
   },
   "outputs": [],
   "source": [
    "# \\s: matches any whitespace character\n",
    "m = re.search('..\\s+..', stringy)\n",
    "\n",
    "# Try to guess. What will this print?\n",
    "#print m.group()"
   ]
  },
  {
   "cell_type": "code",
   "execution_count": 19,
   "metadata": {
    "button": false,
    "collapsed": false,
    "deletable": true,
    "new_sheet": false,
    "run_control": {
     "read_only": false
    }
   },
   "outputs": [],
   "source": [
    "# \\S: matches any non-whitespace character\n",
    "m = re.search('\\S+', stringy)\n",
    "\n",
    "# Try to guess. What will this print?\n",
    "#print m.group()"
   ]
  },
  {
   "cell_type": "code",
   "execution_count": 20,
   "metadata": {
    "button": false,
    "collapsed": false,
    "deletable": true,
    "new_sheet": false,
    "run_control": {
     "read_only": false
    }
   },
   "outputs": [],
   "source": [
    "# \\w: matches any alphanumeric character\n",
    "m = re.search('\\w+', stringy)\n",
    "\n",
    "# Try to guess. What will this print?\n",
    "#print m.group()"
   ]
  },
  {
   "cell_type": "code",
   "execution_count": 21,
   "metadata": {
    "button": false,
    "collapsed": false,
    "deletable": true,
    "new_sheet": false,
    "run_control": {
     "read_only": false
    }
   },
   "outputs": [],
   "source": [
    "# \\W: matches any non-alphanumeric character\n",
    "m = re.search('\\W+', stringy)\n",
    "\n",
    "# Try to guess. What will this print?\n",
    "#print m.group()"
   ]
  },
  {
   "cell_type": "code",
   "execution_count": 23,
   "metadata": {
    "button": false,
    "collapsed": false,
    "deletable": true,
    "new_sheet": false,
    "run_control": {
     "read_only": false
    }
   },
   "outputs": [],
   "source": [
    "# Use findall to return all results\n",
    "m = re.findall('Fake\\w+\\s?', stringy)\n",
    "\n",
    "# Try to guess. What will this print?\n",
    "#print m"
   ]
  },
  {
   "cell_type": "markdown",
   "metadata": {
    "button": false,
    "deletable": true,
    "new_sheet": false,
    "run_control": {
     "read_only": false
    }
   },
   "source": [
    "<img src=\"http://31.media.tumblr.com/b495222ee1e2df2b1a478c2d5a58df5f/tumblr_mlfep4fByu1rd6wt2o1_500.gif\" alt=\"Title\" style=\"width: 250px\"/>"
   ]
  },
  {
   "cell_type": "markdown",
   "metadata": {
    "button": false,
    "deletable": true,
    "new_sheet": false,
    "run_control": {
     "read_only": false
    }
   },
   "source": [
    "### You're gnarly bro! Let's generate some data! Run the next cell."
   ]
  },
  {
   "cell_type": "code",
   "execution_count": 178,
   "metadata": {
    "button": false,
    "collapsed": false,
    "deletable": true,
    "new_sheet": false,
    "run_control": {
     "read_only": false
    }
   },
   "outputs": [
    {
     "name": "stdout",
     "output_type": "stream",
     "text": [
      "longish lexicon abeyance tablespoon brain hallway polonaise bid lettermen home conferrable risk padd\n"
     ]
    }
   ],
   "source": [
    "import requests\n",
    "import random\n",
    "import numpy as np\n",
    "\n",
    "word_site = \"http://svnweb.freebsd.org/csrg/share/dict/words?view=co&content-type=text/plain\"\n",
    "\n",
    "response = requests.get(word_site)\n",
    "WORDS = response.content.splitlines()\n",
    "not_proper = [word for word in WORDS if not word[0].isupper()]\n",
    "\n",
    "class formWords:\n",
    "    def __init__(self, not_proper):\n",
    "        self.not_proper = not_proper\n",
    "\n",
    "    def randomNonProper(self):\n",
    "        return self.not_proper[np.random.randint(0,len(self.not_proper))]\n",
    "        \n",
    "    def generateText(self, blog_length):\n",
    "        blog = []\n",
    "        for x in range(blog_length):\n",
    "            blog += [self.randomNonProper()]\n",
    "    \n",
    "        return \" \".join(blog)\n",
    "\n",
    "words = formWords(not_proper)\n",
    "\n",
    "#This is the data variable\n",
    "data = words.generateText(500)\n",
    "print data[:100]"
   ]
  },
  {
   "cell_type": "markdown",
   "metadata": {
    "button": false,
    "deletable": true,
    "new_sheet": false,
    "run_control": {
     "read_only": false
    }
   },
   "source": [
    "### Good golly! That sure is alot of data. Hopefully regular expressions can help us through this jam..."
   ]
  },
  {
   "cell_type": "code",
   "execution_count": 24,
   "metadata": {
    "button": false,
    "collapsed": false,
    "deletable": true,
    "new_sheet": false,
    "run_control": {
     "read_only": false
    }
   },
   "outputs": [],
   "source": [
    "# Find all the words with 'man' in them\n"
   ]
  },
  {
   "cell_type": "code",
   "execution_count": 25,
   "metadata": {
    "button": false,
    "collapsed": false,
    "deletable": true,
    "new_sheet": false,
    "run_control": {
     "read_only": false
    }
   },
   "outputs": [],
   "source": [
    "# Find all the words that begin with an 'a'\n"
   ]
  },
  {
   "cell_type": "code",
   "execution_count": 26,
   "metadata": {
    "button": false,
    "collapsed": false,
    "deletable": true,
    "new_sheet": false,
    "run_control": {
     "read_only": false
    }
   },
   "outputs": [],
   "source": [
    "# Find all the words with an 'o' as the second letter\n"
   ]
  },
  {
   "cell_type": "code",
   "execution_count": 27,
   "metadata": {
    "button": false,
    "collapsed": false,
    "deletable": true,
    "new_sheet": false,
    "run_control": {
     "read_only": false
    }
   },
   "outputs": [],
   "source": [
    "# Find all the words with vowels surrounding one consonant\n"
   ]
  },
  {
   "cell_type": "code",
   "execution_count": 28,
   "metadata": {
    "button": false,
    "collapsed": false,
    "deletable": true,
    "new_sheet": false,
    "run_control": {
     "read_only": false
    }
   },
   "outputs": [],
   "source": [
    "# Find all the words with three consecutive consonants\n"
   ]
  },
  {
   "cell_type": "code",
   "execution_count": 29,
   "metadata": {
    "button": false,
    "collapsed": false,
    "deletable": true,
    "new_sheet": false,
    "run_control": {
     "read_only": false
    },
    "scrolled": true
   },
   "outputs": [],
   "source": [
    "# Find all the words that begin and end with a vowel\n"
   ]
  },
  {
   "cell_type": "code",
   "execution_count": 30,
   "metadata": {
    "button": false,
    "collapsed": false,
    "deletable": true,
    "new_sheet": false,
    "run_control": {
     "read_only": false
    }
   },
   "outputs": [],
   "source": [
    "# Find two words such that the first begins with a consonant and the second begins with a vowel\n"
   ]
  },
  {
   "cell_type": "code",
   "execution_count": null,
   "metadata": {
    "button": false,
    "collapsed": true,
    "deletable": true,
    "new_sheet": false,
    "run_control": {
     "read_only": false
    }
   },
   "outputs": [],
   "source": []
  }
 ],
 "metadata": {
  "anaconda-cloud": {},
  "kernelspec": {
   "display_name": "Python 2",
   "language": "python",
   "name": "python2"
  },
  "language_info": {
   "codemirror_mode": {
    "name": "ipython",
    "version": 2
   },
   "file_extension": ".py",
   "mimetype": "text/x-python",
   "name": "python",
   "nbconvert_exporter": "python",
   "pygments_lexer": "ipython2",
   "version": "2.7"
  }
 },
 "nbformat": 4,
 "nbformat_minor": 0
}
