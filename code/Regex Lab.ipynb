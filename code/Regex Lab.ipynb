{
 "cells": [
  {
   "cell_type": "code",
   "execution_count": 1,
   "metadata": {
    "button": false,
    "collapsed": false,
    "deletable": true,
    "new_sheet": false,
    "run_control": {
     "read_only": false
    }
   },
   "outputs": [],
   "source": [
    "import requests\n",
    "import random\n",
    "import numpy as np\n",
    "\n",
    "word_site = \"http://svnweb.freebsd.org/csrg/share/dict/words?view=co&content-type=text/plain\"\n",
    "response = requests.get(word_site)\n",
    "WORDS = response.content.splitlines()\n",
    "proper = [word for word in WORDS if word[0].isupper()]\n",
    "not_proper = [word for word in WORDS if not word[0].isupper()]\n",
    "\n",
    "class formWords:\n",
    "    def __init__(self, proper, not_proper):\n",
    "        self.proper = proper\n",
    "        self.not_proper = not_proper\n",
    "        \n",
    "    def randomProper(self):\n",
    "        return self.proper[np.random.randint(0,len(self.proper))]\n",
    "    \n",
    "    def randomNonProper(self):\n",
    "        return self.not_proper[np.random.randint(0,len(self.not_proper))]\n",
    "        \n",
    "    def randomNumber(self,digits):\n",
    "        return str(random.sample(range(10 ** (digits - 1), 10 ** (digits)), 1)[0])\n",
    "    \n",
    "    def randomPostfix(self):\n",
    "        postfix = ['Street','Ave', 'Blvd', 'Lane', 'Court']\n",
    "        return postfix[np.random.randint(1,len(postfix))]\n",
    "    \n",
    "    def randomEmailProvider(self):\n",
    "        provider = ['gmail','yahoo', 'live', 'compuserve', 'aol']\n",
    "        return provider[np.random.randint(1,len(provider))]\n",
    "    \n",
    "    def randomState(self):\n",
    "        states = [\"AL\", \"AK\", \"AZ\", \"AR\", \"CA\", \"CO\", \"CT\", \"DC\", \"DE\", \"FL\", \"GA\", \n",
    "          \"HI\", \"ID\", \"IL\", \"IN\", \"IA\", \"KS\", \"KY\", \"LA\", \"ME\", \"MD\", \n",
    "          \"MA\", \"MI\", \"MN\", \"MS\", \"MO\", \"MT\", \"NE\", \"NV\", \"NH\", \"NJ\", \n",
    "          \"NM\", \"NY\", \"NC\", \"ND\", \"OH\", \"OK\", \"OR\", \"PA\", \"RI\", \"SC\", \n",
    "          \"SD\", \"TN\", \"TX\", \"UT\", \"VT\", \"VA\", \"WA\", \"WV\", \"WI\", \"WY\"]\n",
    "        return states[np.random.randint(1,len(states))]\n",
    "        \n",
    "    def generateText(self, blog_length):\n",
    "        form = self.getForm()\n",
    "        blog = []\n",
    "        for x in range(blog_length):\n",
    "            choice = np.random.randint(1,50)\n",
    "            if choice < 38:\n",
    "                blog += [self.randomNonProper()]\n",
    "            elif choice < 40:\n",
    "                blog += [form['email']()]\n",
    "            elif choice < 44:\n",
    "                blog += [form['name']()]\n",
    "            elif choice < 46:\n",
    "                blog += [form['password']()]\n",
    "            elif choice < 50:\n",
    "                blog += [form['address']()]\n",
    "    \n",
    "        return \" \".join(blog)\n",
    "\n",
    "    def getForm(self):\n",
    "        return {\n",
    "            'email' : lambda : \"Email: \" + self.randomNumber(4) + self.randomNonProper().lower() + \n",
    "                \"@\" + self.randomEmailProvider() + \".com\",\n",
    "            'name' : lambda : \"Name: \" + self.randomProper() + \" \" + self.randomProper(),\n",
    "            'password' : lambda : \"Password: \" + self.randomNumber(2) + self.randomNonProper() + \n",
    "                self.randomNumber(3) + self.randomProper().lower(),\n",
    "            'address' : lambda : \"Address: \" + self.randomNumber(3) + \" \" + self.randomProper() + \n",
    "                \" \" + self.randomPostfix() + \", \" + self.randomProper() + \" \" + self.randomState() + \n",
    "                \", \" + self.randomNumber(5),\n",
    "        }\n",
    "\n",
    "words = formWords(proper, not_proper)"
   ]
  },
  {
   "cell_type": "code",
   "execution_count": 3,
   "metadata": {
    "button": false,
    "collapsed": false,
    "deletable": true,
    "new_sheet": false,
    "run_control": {
     "read_only": false
    }
   },
   "outputs": [
    {
     "name": "stdout",
     "output_type": "stream",
     "text": [
      "Email: 6407ribose@live.com\n",
      "Name: Nazi Pareto\n",
      "Password: 18appearance402o'leary\n",
      "Address: 575 Bangui Court, Puritan NV, 88393\n",
      "glassine Name: Benedict Sheridan limpet sheet parent builtin wise vivace Name: Titus Telefunken mini\n"
     ]
    }
   ],
   "source": [
    "print words.getForm()['email']()\n",
    "print words.getForm()['name']()\n",
    "print words.getForm()['password']()\n",
    "print words.getForm()['address']()\n",
    "\n",
    "#This is the data variable\n",
    "data = words.generateText(10000)\n",
    "print data[:100]"
   ]
  },
  {
   "cell_type": "markdown",
   "metadata": {
    "button": false,
    "deletable": true,
    "new_sheet": false,
    "run_control": {
     "read_only": false
    }
   },
   "source": [
    "### Pull all the emails from the data variable"
   ]
  },
  {
   "cell_type": "code",
   "execution_count": null,
   "metadata": {
    "button": false,
    "collapsed": true,
    "deletable": true,
    "new_sheet": false,
    "run_control": {
     "read_only": false
    }
   },
   "outputs": [],
   "source": [
    "m = re.findall('Email: (\\w*@\\w*.\\w*)\\s?',data)\n",
    "\n",
    "#print m"
   ]
  },
  {
   "cell_type": "markdown",
   "metadata": {
    "button": false,
    "deletable": true,
    "new_sheet": false,
    "run_control": {
     "read_only": false
    }
   },
   "source": [
    "### Pull all the names from the data variable"
   ]
  },
  {
   "cell_type": "code",
   "execution_count": 47,
   "metadata": {
    "button": false,
    "collapsed": false,
    "deletable": true,
    "new_sheet": false,
    "run_control": {
     "read_only": false
    }
   },
   "outputs": [],
   "source": [
    "m = re.findall('Name: (\\w*\\s\\w*)\\s?',data)\n",
    "\n",
    "#print m"
   ]
  },
  {
   "cell_type": "markdown",
   "metadata": {
    "button": false,
    "deletable": true,
    "new_sheet": false,
    "run_control": {
     "read_only": false
    }
   },
   "source": [
    "### Pull all the passwords from the data variable"
   ]
  },
  {
   "cell_type": "code",
   "execution_count": 51,
   "metadata": {
    "button": false,
    "collapsed": false,
    "deletable": true,
    "new_sheet": false,
    "run_control": {
     "read_only": false
    }
   },
   "outputs": [],
   "source": [
    "m = re.findall('Password: (\\w*\\d*)\\s?',data)\n",
    "\n",
    "#print m"
   ]
  },
  {
   "cell_type": "markdown",
   "metadata": {
    "button": false,
    "deletable": true,
    "new_sheet": false,
    "run_control": {
     "read_only": false
    }
   },
   "source": [
    "### Pull all the addresses from the data variable"
   ]
  },
  {
   "cell_type": "code",
   "execution_count": 95,
   "metadata": {
    "button": false,
    "collapsed": false,
    "deletable": true,
    "new_sheet": false,
    "run_control": {
     "read_only": false
    }
   },
   "outputs": [
    {
     "name": "stdout",
     "output_type": "stream",
     "text": [
      "['809 Knightsbridge Blvd, Ibn CT, 64397', '999 Rockford Blvd, Allah SC, 29213', '482 Marjorie Court, Brent DC, 55439', '279 Goff Lane, Matsumoto ID, 10659', '920 Juneau Blvd, Pillsbury WA, 73106', '874 McConnell Blvd, Pamela OK, 66032', '263 Narbonne Ave, Denton WY, 51473', '377 Sextans Court, Afrikaner MN, 86405', '758 Bernie Lane, Heinz WI, 89792', '226 Lucretia Ave, Nostrand NY, 79213', '158 Belgrade Court, Maggie CO, 44995', '751 Ulster Lane, Burnside MT, 13441', '544 Antioch Ave, Levis MS, 46303', '252 Hal Lane, Caruso AR, 54445', '649 Ostrander Ave, McDougall AZ, 97083', '171 Laszlo Ave, Yemen OK, 27938', '748 Pinsky Court, Norma KS, 87023', '959 Perseus Lane, McKay WY, 17421', '451 Rumania Blvd, English MA, 54966', '132 Franciscan Ave, Vega TX, 83641', '694 Faust Blvd, Singapore NJ, 37970', '220 Packard Blvd, Lausanne RI, 54851', '348 Bohr Ave, Somers OR, 84499', '445 Paoli Court, Peloponnese OR, 59708', '122 Agricola Blvd, Mouton MN, 45350', '267 Wyman Lane, Felix LA, 72403', '769 Studebaker Court, Hartley FL, 86552', '388 Arden Court, Middlesex UT, 47729', '549 Anna Ave, Otto IN, 58353', '165 Noah Blvd, Bathurst WA, 39289', '396 Sharon Ave, Cairo KS, 14656', '986 Nippon Ave, Peking CA, 31505', '827 Wolcott Court, Peale OK, 30086', '163 Kane Court, Ezra TN, 50662', '653 Flynn Ave, Vienna CO, 32305', '546 Weldon Court, GAO TN, 41820', '932 Mann Blvd, Brighton GA, 86862', '813 Stuyvesant Ave, Ivan AZ, 47019', '796 Angeles Ave, Newfoundland CT, 18288', '280 Dumpty Lane, Whelan MD, 23481', '223 Carlo Blvd, Sextans ME, 44174', '290 Bradbury Lane, Levin DE, 96033', '780 Pisces Court, Calvert GA, 29686', '552 Szilard Blvd, Hutchins MS, 12339', '657 Dodson Ave, Watson NE, 82827', '358 Eloise Blvd, Orlando CT, 55266', '788 Urquhart Lane, Cahill NV, 61045', '378 Kramer Lane, Parr PA, 20416', '464 Cerberus Court, Pius MO, 68000', '292 Sybil Lane, Bertie NV, 50028', '780 Deane Ave, Hebrew NJ, 79094', '322 Furman Ave, Loki FL, 53678', '186 Selwyn Court, Wolfgang SD, 16335', '487 Mahayana Court, Clytemnestra WV, 26019', '531 Euridyce Court, Irrawaddy IA, 98046', '153 Waldron Court, Sofia IA, 97190', '133 Gegenschein Court, Aarhus NC, 93071', '715 Edmund Blvd, Fischer KY, 59836', '571 Oscar Blvd, Mac ME, 92077', '685 Cheney Court, Richardson CO, 31527', '618 Fischbein Court, Carlyle VA, 51152', '178 Arthur Ave, Gerhardt SD, 26293', '190 Magdalene Ave, Moines SC, 87766', '246 Hoffman Ave, Hal WY, 45537', '576 Willoughby Ave, Astor LA, 25779', '530 Connecticut Ave, Burke FL, 74323', '666 Moiseyev Ave, Derbyshire VA, 20649', '865 Dunn Court, Guardia NE, 82635', '915 Nat Court, Johnsen TN, 18492', '460 Nielson Court, Archimedes GA, 16783', '130 Jane Lane, Galway WY, 53290', '748 Allan Court, Cuba MO, 40237', '738 Nichols Blvd, Delft NM, 52071', '300 Hetman Blvd, Millard VA, 51765', '882 NIH Blvd, Mudd MS, 96073', '320 Lipscomb Ave, Scarlatti IA, 17993', '923 Wilhelmina Ave, Nadine DC, 58817', '317 Appian Blvd, Worcester VA, 59589', '187 Deimos Court, Conley ND, 10598', '187 Interpol Court, Stephanie WA, 61625', '353 Eli Ave, Indochina TN, 23166', '758 Camino Blvd, Germantown MO, 16803', '405 Fedora Blvd, Woolworth LA, 88756', '536 Alameda Court, Babcock IL, 71510', '552 Wilkinson Ave, Andersen HI, 46566', '237 Bertie Ave, Breton PA, 57367', '762 Dempsey Lane, GM RI, 90281', '105 Peachtree Ave, POBox WV, 65006', '784 Sylvester Ave, Braun GA, 22853', '440 Woodard Ave, Disney ID, 24808', \"786 I'd Ave, Helmut CA, 45353\", '224 Heinrich Ave, Susie CO, 13578', '785 Naples Lane, Aquila FL, 42734', '983 Waring Blvd, Lars NH, 90819', '550 Pershing Lane, Clinton UT, 87260', '724 Aeneas Ave, Filipino AZ, 73363', '310 Honshu Ave, Cypriot IN, 14810', '174 Macbeth Ave, Thai WI, 73677', '951 Casey Blvd, Marc WY, 92221', '581 Lamar Blvd, Thelma ME, 14260', '194 Buchanan Lane, McDonald MA, 43539', '515 Warwick Ave, Lorinda WA, 51388', '118 Augean Court, Preston GA, 48629', '292 Apocrypha Lane, Aviv ID, 15518', '570 Carbone Blvd, Barnum TX, 64286', '919 NYU Blvd, CIA RI, 79943', '670 NM Blvd, Mont HI, 74910', '375 Ferdinand Lane, Bernie IA, 38819', '651 Christendom Ave, Clinton MO, 94953', '191 Indira Blvd, Bessie RI, 55578', '928 Boston Blvd, Hurwitz AZ, 53039', '396 Jeremy Blvd, Michele IL, 43092', '830 Iverson Lane, Marco MN, 43047', '715 Phil Lane, Marcus ME, 60067', '184 Forsythe Lane, Randall PA, 36011', '704 Negroes Court, Knox ND, 52473', '562 Wakefield Blvd, Brahmaputra ID, 98788', '404 Nakayama Ave, Catalina RI, 62364', '812 Winnie Lane, Garcia AZ, 36423', '798 Hyades Ave, Lopez MN, 78639', '177 Kuhn Lane, Helene ID, 53773', '327 Patrick Ave, Lombardy ME, 33832', '578 Menelaus Blvd, Calcutta DC, 26680', '268 Ferguson Ave, Stamford MN, 82051', '518 Tammany Blvd, Adelia MD, 57061', '215 Orinoco Court, Stanley OH, 25418', '418 Greenberg Ave, Fedora OR, 27385', '962 Agnes Ave, Verne WI, 23217', '713 Libya Lane, Madsen IN, 41109', '886 Politburo Ave, Kevin WI, 35999', '297 Carboloy Blvd, Algol AR, 65960', '730 Stephenson Ave, Igor CA, 59570', '303 Scottish Ave, Gerald IN, 65258', \"520 O'Connor Lane, Tantalus DC, 60717\", '885 Corcoran Court, NC OH, 99905', '891 Swanson Court, Arlene AZ, 15650', '556 Kennedy Blvd, Chile KY, 20869', '260 Chadwick Ave, Nero NC, 90975', '240 Samoa Blvd, Tim NV, 18588', '970 Hughes Blvd, Alden AK, 81673', '119 Cuzco Court, Pratt IA, 81888', '496 Confucian Ave, Lucretia GA, 87430', '507 Saturday Court, Louvre KS, 12842', '379 Bernini Court, Fitzroy MN, 10264', '389 Fairfax Ave, Willard NJ, 85754', '217 Duma Ave, Disneyland ID, 75072', '409 Roth Ave, Foss SC, 49018', '595 Fujitsu Lane, Crusoe IN, 22398', '616 Missy Blvd, TOEFL FL, 44547', '468 Susan Court, Noah CO, 82677', '997 Elisabeth Blvd, Dinah GA, 72343', '877 Morrissey Ave, Mycenae SC, 20983', '378 Chesterton Ave, Canterbury NY, 57283', '204 Corbett Lane, Catalina HI, 16577', '275 Barrett Lane, Cretaceous NJ, 42578', '604 Scala Court, Christina MO, 72931', '811 Portsmouth Blvd, Custer MD, 67891', '971 Lazarus Ave, Erastus VT, 65846', '335 Brookhaven Blvd, Durango CO, 31451', '810 Christoffel Ave, Lauderdale DC, 49225', '318 Florentine Court, Youngstown MI, 17015', '143 Esmark Court, Neanderthal WV, 44837', '378 Artie Lane, Kochab WI, 46019', '825 Hanukkah Court, Oxnard NY, 71939', '790 Seward Court, Lacerta NE, 87545', '117 Curtis Blvd, Chautauqua ND, 91562', '853 Tananarive Lane, Plexiglas ID, 66850', '740 Pickett Court, Urbana MS, 88554', '913 Johnsen Lane, NOAA TX, 27428', '492 Spencer Ave, Broglie SC, 75654', '561 NBC Ave, Freddy DE, 18111', '862 Gleason Court, Buttrick ME, 65130', '771 Guggenheim Lane, Raritan MI, 73468', '507 Eileen Court, Kaplan NH, 16076', '605 Fitzpatrick Ave, Caviness VT, 61762', '696 Loire Ave, Cesare OR, 68353', '167 Swanson Lane, Elmhurst OK, 47148', '815 Astor Blvd, Foley NH, 92320', '777 Coleman Court, Gwen ID, 47737', '205 Boyd Ave, Scylla NH, 15047', '668 Bushnell Lane, Canberra IL, 25880', '483 Greenland Ave, Montmartre NM, 50600', '595 Marie Blvd, Carib VT, 95811', '807 Brice Lane, Toledo CT, 90548', '149 Lachesis Ave, Henley WV, 57245', '116 Waldron Lane, Brooke MT, 20725', '121 Palo Ave, Mattson OK, 90880', '300 Sophie Court, Palomar MT, 56175', '964 Chandigarh Blvd, Yves VT, 73578', '538 Papua Blvd, Herculean VA, 65457', '826 Mycenae Court, Eloise MA, 48922', '100 Janet Blvd, Crosby CT, 17370', '639 Slovakia Blvd, Lila NV, 21611', '650 Ferguson Ave, Brock VA, 79571', '854 Hartley Court, McCabe AK, 50367', '962 Arlington Blvd, Aleutian SC, 61376', '641 Hanley Court, Pulaski VA, 14988', '255 Oslo Court, Gettysburg IN, 42400', '271 Mali Lane, Tioga RI, 92458', '913 Laban Lane, Perth LA, 72297', '690 Kirkpatrick Lane, Icelandic MO, 79011', '570 Talmudic Court, Hirsch IL, 65150', '868 Tibetan Lane, Rodgers KY, 42973', '611 Dougherty Court, Pritchard NY, 26994', '654 Afghanistan Lane, Leningrad ND, 24661', '845 Mesozoic Blvd, Bryan IN, 74172', '540 Bermuda Ave, USAF WA, 97207', '735 Anabel Lane, Scala AR, 85287', '588 Everhart Ave, Johanna MI, 62553', '912 Sandburg Ave, Berwick ID, 28394', '812 Cartesian Lane, Montgomery LA, 81537', '582 SCM Lane, Kaddish IN, 47716', '859 Farkas Court, Krakow VA, 59932', '745 Birmingham Blvd, Griffith MN, 50112', '620 Socrates Court, Durango MI, 78842', '729 Jesse Blvd, Schuylkill ID, 12092', '172 Whitman Blvd, Soc LA, 75524', '860 Dow Blvd, Buddha TX, 67474', '548 Deborah Blvd, Quantico SC, 96865', '794 Deere Ave, Stygian DC, 23637', '584 Felice Lane, Weller NH, 34598', '835 Bryan Ave, Hawaii KY, 44594', '501 Garry Blvd, Ulan NM, 84446', '860 Carolyn Court, Brice PA, 54306', '495 Pickford Ave, Dalzell OR, 97343', '487 Ralston Ave, Marlborough NJ, 98319', '919 Travis Ave, Brasilia ID, 24305', '813 Koch Ave, Salvatore WY, 20134', '763 Katowice Blvd, Walpole AK, 22187', '281 Giacomo Court, Chicagoan MS, 10619', '794 Mueller Blvd, Singapore NY, 47475', '280 Bonaventure Blvd, Haugen KS, 82876', '399 Neanderthal Lane, Eastman MN, 20012', '759 Garibaldi Ave, Wellesley UT, 79251', '415 McDaniel Lane, Semiramis OK, 96085', '392 Sousa Lane, Grover WI, 39050', \"807 Mongolia Blvd, I've KS, 79159\", '748 Essex Ave, Ghana AR, 90568', \"112 Roberto Court, O'Leary NJ, 51634\", '137 Jacques Court, Bambi HI, 53932', '719 Odin Blvd, Negroid ND, 17360', '348 Irishman Lane, Kipling NC, 40944', '526 Glenda Lane, Leopold OR, 86624', '946 Araby Blvd, Kodachrome FL, 81407', '966 Brady Lane, USC&GS NH, 57687', '415 Ernest Blvd, SW NC, 24939', '798 Schlitz Court, BTL AK, 76338', '666 Whatley Ave, Buttrick MO, 26727', '370 MacKenzie Lane, Emery HI, 76754', '216 Alabama Ave, Comanche NE, 70594', '985 McCluskey Ave, Signora SC, 67271', '199 Bunsen Court, Muzak SC, 17541', '654 Carruthers Blvd, Phillip AR, 77413', '232 Candide Blvd, India WY, 50094', '240 Adriatic Blvd, Mercator PA, 60603', '798 Steele Ave, Steinberg HI, 80553', '667 Dominique Ave, Bordeaux ND, 95169', '698 Florida Ave, Paulson NM, 62159', '683 Holmes Lane, Schloss ND, 94407', '867 Franz Blvd, Enos MO, 49626', '992 Leon Blvd, Portuguese WY, 57443', '876 Aviv Ave, Poughkeepsie KY, 26174', '872 Collier Court, Dempsey VT, 27251', '100 Huron Ave, Tracy IL, 66070', '258 Fujitsu Ave, Schumacher DC, 61370', '334 Dalton Lane, Willoughby FL, 98437', '734 Hillcrest Lane, Jolla CO, 67968', '175 Salisbury Court, Godfrey WV, 84793', '998 Pliocene Ave, Montpelier WI, 28443', '477 Mac Blvd, Leningrad HI, 92956', '774 Brady Court, Caviness VT, 50570', '797 Angela Lane, Patton LA, 57896', '872 Ortega Court, Abner IL, 22532', '997 Herman Lane, Southampton DC, 90427', '371 Boucher Blvd, Slovenia LA, 56399', '795 Garry Lane, Lucian WY, 92573', '838 Prokofieff Ave, September MO, 96259', '979 Mahayana Blvd, Aarhus UT, 22737', '713 Knudsen Ave, Kate WV, 60367', \"534 O'Brien Ave, Eldon ME, 60889\", '708 Rudolf Blvd, Judaica VA, 23571', '971 Tahoe Lane, Beresford PA, 60871', '865 FL Court, Dunbar MT, 33686', '311 Moen Blvd, Vietnamese AR, 20534', '342 Osborne Court, Briton AK, 49902', '823 Permian Lane, Caviness MA, 13300', '756 Bengali Court, Katz UT, 23825', '462 Libreville Ave, Altair OR, 76408', '315 Mukden Court, Whitney ID, 52630', '998 U.S.A Lane, Armenia CA, 38345', '564 Wehr Blvd, Olav OH, 58857', '216 Yeager Ave, Adonis SD, 71760', '824 Barr Court, Janice WV, 80196', \"550 Burgundian Lane, O'Dwyer ND, 56114\", '727 Horton Court, Ackerman NE, 26142', '265 Barth Lane, Hempstead MS, 41275', '925 Bradshaw Lane, FIFO WV, 18294', '753 Perilla Lane, Juneau GA, 94431', '525 Crete Court, Transylvania RI, 73545', '526 Noah Blvd, Hershey WI, 16072', '266 Melinda Lane, Natchez DC, 21740', '996 Indus Blvd, MacKenzie DE, 68679', '693 Santo Lane, Congolese IA, 89527', '623 Allah Ave, Timon IN, 55235', '313 Huntley Court, Bertie NC, 49522', '324 Davidson Ave, Bahama OR, 92613', '144 Meiji Ave, Fitzpatrick AZ, 89877', '520 Cambrian Ave, Tess LA, 52555', '183 Beatrice Court, Icarus RI, 75646', '547 Englishmen Lane, Tuskegee TX, 26850', '653 Lesbian Ave, Calder NJ, 74767', '552 Ridgway Ave, Manitoba CO, 63821', '802 Cathy Ave, Regina GA, 62939', '987 Alexis Blvd, Ames HI, 41643', '619 Darius Court, Adelaide ND, 63064', '229 Hershey Lane, Quito KS, 17233', '826 Reykjavik Court, Greer SC, 27872', '600 Forbes Court, Kampuchea HI, 25676', '985 Riordan Lane, Cadillac DC, 16647', '798 Denmark Court, Parrish NY, 90111', '650 Bryce Court, Elisabeth NH, 16648', '247 Scranton Lane, Clausen RI, 29704', '408 Ferreira Lane, Renault ND, 78094', '252 Orleans Ave, Glendale TN, 61437', '144 Keynes Ave, Cohn ME, 86117', '429 Izvestia Ave, Hutchinson WI, 56560', '993 WI Court, Senora IL, 95607', '141 Connally Court, Procyon GA, 65222', '207 Margaret Ave, Ullman CT, 34444', '299 Saratoga Court, Louis KY, 29458', '115 Bucknell Court, Goldman FL, 49496', '692 Presbyterian Lane, Vulcan WY, 56806', '696 Thrace Blvd, Sweden NY, 62142', '556 Foley Lane, Wilfred IA, 67371', '331 Rutledge Blvd, Trenton GA, 13958', '956 Eleanor Blvd, Ph.D SD, 84177', '703 Feeney Court, Kafkaesque OR, 59949', '737 Norse Ave, RI ID, 19493', '534 McDonald Blvd, Damocles ND, 34141', '372 Quakeress Court, Lovelace MS, 78613', '381 Jacob Blvd, Mephistopheles NC, 42238', '208 Dana Court, Teflon NJ, 84459', '896 Ballard Blvd, Alton MN, 70316', '373 Enoch Lane, Plymouth NC, 68106', '617 Kent Court, Gaelic OR, 47490', '268 Ike Ave, Barlow NH, 95043', '350 MacArthur Blvd, Promethean MI, 12654', '994 Carolinian Blvd, Scythia NY, 77822', '179 Estonia Lane, Bootes KY, 79870', '309 Mooney Blvd, Penn CT, 33191', '722 Verlag Court, Warsaw FL, 15450', '991 Janet Court, RSVP ME, 73225', '977 Welch Ave, Chesterton NE, 81298', '480 Kerouac Blvd, Columbia GA, 50612', '420 Ivanhoe Court, Pusey UT, 70756', '239 Metzler Lane, Tyburn NY, 30673', '533 Dearborn Court, Hoosier NJ, 50819', '330 Brighton Lane, Gutenberg DC, 59231', '629 Papua Lane, Lorraine NY, 50422', '748 Brahmsian Lane, Adriatic IA, 72320', '574 Kochab Court, Gothic IL, 55143', '886 Hurst Ave, Dar WV, 61547', '636 Eaton Court, Thomson TN, 24892', '617 Smyrna Lane, Pradesh CT, 92461', '631 Fanny Ave, Bodleian RI, 54632', '529 McCarthy Blvd, Englewood CA, 90947', '603 Diane Blvd, Hodgkin DC, 29871', '317 AT&T Blvd, Pegasus IL, 26954', '545 Boyle Lane, Pasteur PA, 92807', '511 Liberia Ave, Juno NC, 28573', '423 Leibniz Lane, Cypriot OK, 94953', '447 Bujumbura Court, Deane IL, 55733', '319 Ramo Court, Daphne PA, 24827', '332 Beaujolais Court, Karol VA, 55029', '333 Driscoll Court, Anderson WV, 36837', '158 IA Ave, Rushmore NY, 84818', '855 Brownell Court, ARPA NM, 24627', '605 Copenhagen Blvd, Scranton GA, 15662', '534 Wyatt Blvd, Shenandoah MT, 70091', '894 Dunedin Blvd, Hobbs WA, 22651', '540 Thea Lane, Lipscomb AR, 53664', '155 Xerxes Blvd, Barbour FL, 76990', '748 Technion Lane, George KS, 36666', '332 Anabaptist Court, SSW WI, 29419', '389 Waring Lane, Fred KS, 52612', '857 Ashmolean Court, Rudyard DE, 33025', '299 Cottrell Court, Abelson NY, 22069', '134 Chisholm Lane, Pandora CO, 69310', '245 Fitzpatrick Lane, Lindsey KS, 44810', '441 Heidegger Lane, Brownian MI, 76363', '684 Aleck Court, Irene AR, 99755', '814 Marcel Lane, Cezanne OR, 54256', '468 Kieffer Lane, Iberia KY, 31078', '743 Oklahoma Blvd, Adelaide CA, 28663', '728 Malay Blvd, Dante AK, 18915', '225 Switzer Blvd, Frisian ME, 64696', '263 Cranston Lane, Sydney OK, 10680', '292 Rockies Ave, Brock VT, 24792', '122 Emanuel Court, Herr OK, 91440', '737 Lyra Lane, Armonk TN, 93684', '892 Aries Court, Gail MN, 12522', '306 Tyson Ave, Marguerite DC, 56625', '627 McHugh Lane, McKee NE, 62714', '696 Nebraska Ave, Ahmedabad NM, 54144', '393 Auberge Ave, Netherlands TN, 19456', '525 Brighton Ave, Butterfield VT, 79427', '846 Israel Ave, Stockton OR, 13949', '816 Cyclops Ave, Lyon MI, 85317', '169 Ektachrome Lane, Lachesis MO, 11150', '398 Stuyvesant Blvd, Gannett AK, 73085', '349 Constantinople Lane, Bragg TX, 52641', '409 Zoroastrian Blvd, Berlin AR, 40453', '258 Deanna Blvd, Abram KS, 45604', '758 Dwyer Ave, Oxford NH, 88380', '101 Indochinese Ave, Ypsilanti NV, 57103', '244 Isfahan Blvd, Pradesh MA, 53019', '633 Pulaski Ave, Hastings GA, 16149', '208 Denny Blvd, Mansfield KS, 44373', '169 Ellsworth Blvd, Frye KY, 33954', '996 Vulcan Lane, Pickering NY, 89066', '907 Lissajous Court, Finn AK, 21906', '335 Manama Blvd, Boreas TN, 50470', '201 Barnard Court, Clytemnestra PA, 14971', '851 Helmholtz Lane, Shmuel WY, 40012', '980 Lev Blvd, Nairobi ME, 55909', '549 Cortez Lane, Charlie AR, 99847', '413 Blackman Court, ACM MI, 79463', '768 Latvia Blvd, Belmont KY, 97833', '512 Dow Court, Carboniferous VT, 97744', '660 Boris Lane, Ella CT, 11903', '989 Lubell Ave, Boltzmann CA, 20017', '567 Kevin Court, Webster NH, 70828', '461 Oxnard Lane, Donald VA, 11414', '309 Monterey Court, Virgil CO, 63063', '909 Cyanamid Blvd, Shawnee IA, 37724', '857 Darius Court, Fairchild AK, 38140', '683 Euripides Lane, Jura UT, 49893', '273 Grady Blvd, Constantinople PA, 93795', '706 Lorraine Court, Stockton NY, 57397', '679 UN Ave, Wheatstone ND, 49818', '322 Howe Lane, Posner DC, 34230', '421 Ballard Ave, Markovian MN, 68930', '244 RSVP Ave, Scarsdale MD, 79765', '966 Euterpe Lane, Pepsi OK, 66411', '250 Brewster Ave, Valois AK, 84412', '466 Ethel Ave, Muncie WV, 26755', '990 Hyannis Lane, Chao RI, 78558', '956 Henley Ave, Witt SC, 71004', '193 Thessalonian Court, Virgil TX, 44676', '189 Balinese Blvd, Hendrick WA, 90254', '736 Sebastian Blvd, Wainwright AZ, 82302', '130 Stan Court, Bernet NH, 21721', '206 Waltham Lane, Annette PA, 59711', '790 Calkins Lane, Yost LA, 39601', '214 KY Ave, Antietam SC, 97977', '270 Zaire Lane, Procrustes AZ, 38083', '233 Swarthmore Blvd, Eva RI, 34637', '660 Seneca Blvd, Winnipeg IA, 58116', '296 Salem Blvd, Oxonian WI, 25531', '864 Renoir Ave, McNeil FL, 90807', '666 Eric Ave, Kenneth MD, 29971', '348 Nolan Ave, Honeywell NE, 68403', '301 Aristotelean Court, Brumidi NH, 41042', '410 Juneau Ave, Monroe WY, 79770', '180 NH Ave, Wei OK, 10967', '277 Isabel Lane, Muscovy OR, 75079', '879 Bridgetown Ave, Dunham CO, 91691', '495 Cottrell Lane, Christenson AZ, 99204', '431 Munich Ave, Louisa NV, 94673', '470 Burundi Lane, Russo MS, 74525', '242 Benton Lane, Corinthian CT, 42216', '149 Procrustes Lane, ITT NJ, 56177', '297 Weinberg Ave, Cartesian OH, 68870', '684 Lamar Lane, Greenland GA, 61839', '356 Samoa Court, Brock AK, 81747', '996 Oswald Court, McCarty MO, 86381', '140 Oxford Lane, NBS AZ, 82012', '826 Goren Lane, Charlie MA, 21558', '305 Sofia Court, Murray WI, 60021', '266 Hilbert Court, Trianon CA, 43062', '359 Pritchard Lane, Alison WV, 75569', '940 Saxon Court, Balzac SC, 17005', '742 Stephenson Blvd, Ripley CO, 27923', '684 Winston Court, Isabel KS, 16136', '950 Litton Blvd, Antarctica MO, 36813', '652 Falmouth Lane, Alexander OK, 64232', '129 Schuster Blvd, Mooney OH, 27027', '453 Amadeus Blvd, Massey TX, 43307', '592 Erskine Ave, Jacobian OK, 36358', '420 Kathleen Court, McKinney AR, 77548', '658 Bucharest Lane, Hilton HI, 11926', '815 Remington Ave, Suez WV, 58586', '266 Shearer Blvd, Schultz NJ, 80512', '372 Allentown Court, TX WI, 24409', '512 Dubhe Court, Mayo MO, 50544', '180 Utah Court, Carl LA, 30014', '378 Myron Court, Managua ND, 92401', '646 Salisbury Court, Des KY, 84094', '568 Moroccan Ave, Burmese MS, 28007', '832 Shafer Court, Beckman FL, 98201', '223 Melville Lane, Gujarat SC, 41863', '613 Fullerton Lane, Ludlow ND, 58362', '366 Haynes Ave, Diana KS, 34209', '361 Andes Court, Marlborough MD, 31859', '703 Nigeria Lane, Calais DC, 59468', '333 UCLA Court, Yakima FL, 16863', '828 Knossos Ave, Herr UT, 95260', '617 Tim Blvd, Menelaus CA, 57907', '232 Caine Blvd, Ceylon NC, 48066', '356 Perkins Lane, Ephraim WV, 75868', '253 GA Lane, Duluth CT, 87964', '408 Larsen Lane, Poland VA, 78988', '860 Polk Ave, Dearborn OK, 34818', '461 Watson Blvd, Ness OR, 36310', '484 Trudy Court, Perkins NM, 29336', '829 Pyle Blvd, Lindsey AZ, 45663', '542 Kowalski Ave, Volterra OR, 30192', '417 Wilkins Ave, Bruegel NE, 42016', '604 Appian Lane, Burgundy NJ, 18315', '725 Graff Lane, Mongolia CO, 35330', '665 Virgo Lane, Schulz IA, 36746', '240 Jonas Blvd, Sanborn DE, 22591', '837 Adelaide Blvd, Bruno RI, 33228', \"305 Hastings Ave, O'Hare CT, 46657\", '513 Whitlock Ave, Wier NV, 47204', '187 Schenectady Ave, Kitakyushu WY, 96053', '595 Guthrie Court, Cyrillic CT, 51938', '578 Beltsville Court, Kafka MO, 98366', '173 Bangui Ave, Edward MA, 86665', '128 Japanese Court, Fredholm HI, 90583', '489 Silverman Lane, Chad UT, 22031', '747 Johnsen Lane, Daytona ID, 79522', '639 Allentown Blvd, Hadrian MS, 92026', '120 Byronic Ave, Dee CT, 13533', '212 Dakar Blvd, Burt CT, 43322', '444 Connors Ave, Leona KS, 95429', '980 Cummings Ave, Biggs ME, 31455', '973 Carolingian Lane, Amadeus PA, 34577', '207 Penelope Court, Adonis MS, 37207', '373 Winnipesaukee Blvd, Elliot AK, 60286', '706 Barrington Court, Baja NJ, 36747', '345 Peterson Lane, Pavlovian RI, 73340', '641 Benedict Ave, Durkee MD, 32799', '942 Dana Blvd, Xerxes HI, 43236', '483 Churchill Court, Emmanuel WA, 28747', '999 Blumenthal Ave, Weller ME, 27440', '157 Baptist Blvd, Conant NH, 80632', '878 Runnymede Lane, Mervin MA, 92072', '751 Rollins Blvd, Schofield MN, 79628', '458 Dan Lane, NW ID, 12139', '501 Hutchinson Court, Arachne NE, 67278', '449 Aquarius Ave, Denton LA, 20579', '822 Somerville Lane, Keller GA, 47709', '775 Piraeus Blvd, Erwin NJ, 12677', '988 Aaron Court, Olav AR, 55025', '361 Scarborough Blvd, Jones OH, 61791', '824 Circe Lane, BMW DC, 73717', '679 WAC Lane, Bakersfield OR, 72730', '856 Woolworth Court, Schlitz VT, 48068', '370 Castillo Blvd, Roseland MO, 91036', '843 Halley Ave, Lynn KS, 53062', '373 Barnes Court, Nazarene AR, 26319', '208 Winfield Ave, Olsen VT, 58783', '233 Provence Blvd, Nebuchadnezzar OH, 60914', '882 Lanka Court, Nicodemus KY, 10976', '171 Yellowknife Court, Nina UT, 66116', '692 Rebecca Ave, Achaean IA, 30358', '737 Bess Court, Walden MS, 74734', '242 Gorky Lane, Helvetica TN, 28378', '576 Smyrna Court, Roy ND, 39779', '933 Wyner Lane, Trumbull NC, 17225', '742 Garfield Ave, Greenberg LA, 19876', '470 Blair Ave, Alexei HI, 58938', '160 Ginsburg Ave, Alphonse FL, 69436', '857 Aquila Ave, Tantric MT, 29764', '816 Lubell Lane, Bendix MA, 54308', '113 Hearst Blvd, Krakatoa ME, 82268', '394 Denmark Blvd, Weller KY, 49627', '556 Ella Court, Visigoth WI, 72912', '102 CBS Blvd, Vail MT, 80070', '852 Plainfield Blvd, Utica NM, 38616', '282 Benz Lane, Byzantine NC, 99986', '377 Conrad Court, Irene CO, 50249', '641 Piraeus Court, Jeres MN, 65278', '756 Pierre Ave, Lockian NE, 10164', '304 Vancouver Ave, Bogota VT, 60428', '535 Eunice Blvd, Alfredo NJ, 60176', '736 Wei Lane, Crimea OK, 81905', '173 Utah Court, Elisabeth NM, 73988', '398 Ilona Ave, Kaplan KS, 42215', '368 Kepler Blvd, Krakatoa DC, 46045', '673 Danube Court, Baghdad WA, 67585', '973 Fischbein Blvd, Amadeus CO, 69472', '548 McKeon Lane, Heinz CA, 33866', '332 Saigon Lane, Visigoth NC, 87084', '393 U.S Lane, Mattson RI, 54760', '624 Theseus Ave, Potts ME, 49178', '609 Dalton Lane, Zachary AZ, 48770', '325 Groton Ave, Morley CA, 58267', '294 Hiawatha Blvd, Paine ND, 12251', '905 Adam Court, Pinehurst MI, 66303', '190 Weinstein Lane, Riggs IN, 52703', '389 Cunard Lane, Jennie FL, 81955', '612 Montgomery Ave, Burnett UT, 11846', '523 Melanie Lane, Bonn VA, 71233', '757 Hempstead Lane, McAdams AR, 78617', '786 Woodbury Blvd, Boyce WY, 87393', '615 Hellespont Lane, Stewart KY, 67651', '889 Prescott Lane, Hollywood ID, 59282', '353 Asuncion Ave, Poynting IL, 53388', '626 Brewster Ave, Mercedes KS, 79535', '825 Cynthia Ave, Busch WV, 59674', '702 Moyer Ave, Slovakia NJ, 35492', '153 Williamson Blvd, Winthrop OK, 51125', '193 Canterbury Lane, Borg KY, 85416', '851 Mbabane Lane, Barth IL, 59144', '317 Tiber Court, Glenda IN, 41551', '144 Boyce Lane, Kessler PA, 48316', '275 Michael Lane, Hurst IA, 95471', '779 Bernadine Ave, Meiji MO, 60579', '485 SSW Lane, Salem NE, 11297', '398 Schumacher Ave, Konrad IL, 48775', '327 Schwab Blvd, Thessalonian MA, 67620', '119 Bern Ave, Larson KY, 60902', '803 Orin Court, Barnhard FL, 70940', '473 Denmark Ave, Ogden MI, 62988', '795 Teutonic Court, Noah CO, 15958', '575 Io Lane, Shakespeare ND, 67547', '403 Guinevere Court, Rudolph CO, 57553', '740 Carla Lane, Granville IA, 82276', '618 Perth Ave, Saigon AR, 62476', '872 SW Blvd, Princeton CA, 21953', '214 Saskatchewan Court, Winnipesaukee GA, 25519', '401 Anheuser Lane, Ukrainian MA, 18022', '915 Maggie Court, Dobbin VA, 93178', '438 Tyburn Lane, Charlie IN, 20578', '192 Scala Lane, Upton AZ, 66875', '309 MacMahon Court, Semite NC, 98184', '712 Euripides Blvd, Ecuador VA, 78291', '731 NIH Blvd, ND FL, 14198', '848 Linton Lane, Kankakee HI, 49592', '466 Oxonian Ave, Albrecht OK, 17401', '362 ROTC Blvd, Jukes ME, 58243', '811 Horace Court, Scotsmen TX, 20930', '645 Winnie Blvd, Sophie HI, 74066', '718 Buddhist Lane, Miocene IN, 91969', '417 Kyoto Ave, Pleistocene AZ, 31511', '810 Marx Court, Garth CT, 73172', '671 Malta Lane, Tennessee OK, 57115', '506 Etruscan Court, Truman MS, 19050', '512 Nietzsche Blvd, Greene GA, 95459', '862 LTV Lane, Antony VT, 39304', '849 Mormon Court, Hollerith MI, 72663', '393 Cumberland Ave, Accra GA, 66932', '993 Angles Blvd, Czechoslovakia KY, 96428', '406 Whatley Lane, Kennecott WY, 78462', '591 Lykes Ave, Arturo OH, 83348', '698 Felicia Court, USDA ID, 64899', '991 Agway Court, GOP MO, 34605', '766 Marvin Lane, Leigh KS, 61423', '545 Paulson Court, Kiwanis WY, 15783', '939 Byrd Court, Semiramis TX, 19269', '400 Myers Lane, Cruickshank WV, 46961', '392 Bayonne Court, Eunice DC, 40669', '921 Durer Court, Mayflower NJ, 54697', '320 Magog Ave, Waite CT, 84929', '665 Kennedy Court, Afghanistan NC, 77484', '103 Augustus Lane, Lufthansa CO, 40315', '133 McCarty Lane, Orville DE, 50283', '804 Brice Lane, Sumatra NE, 78688', '190 Clare Ave, Hatteras DE, 84915', '747 Gideon Lane, Corcoran CA, 23390', '320 Auschwitz Ave, Cal IL, 52184', '677 Ekstrom Blvd, Helene MD, 72042', '605 Davy Ave, Wilkie ID, 98345', '501 IQ Lane, Katowice MO, 76185', '459 Piccadilly Lane, Julia AZ, 73822', '514 Orwellian Ave, Barr KY, 33203', '997 Sabine Court, Convair RI, 26710', '975 Vancouver Court, Bergstrom NE, 46028', '862 Citroen Ave, Harlem MO, 22443', '113 Hades Court, Einsteinian MN, 61500', '364 Sanskrit Ave, Manville SC, 26535', '516 Cyrus Lane, Jackie CA, 48762', '868 Epsom Lane, Schaefer MA, 80729', '897 Jacobite Lane, Giacomo NJ, 60982', '410 Sci Lane, Parr WI, 86394', '355 Sheehan Court, Fahey NM, 81230', '587 Platte Court, Siegmund OH, 23817', '775 Feldman Ave, Hurd TX, 67809', '613 Dominic Ave, Julius SD, 34901', '547 Hudson Court, Worcestershire FL, 70519', '190 MacMillan Lane, Valhalla HI, 39547', '399 Pandora Ave, Paso AR, 27958', '118 McNulty Lane, Hollerith VT, 29667', '591 Jules Court, Falkland ND, 12381', '961 Hodgkin Court, Penrose CO, 10898', '842 Kowalski Lane, Albania WY, 81900', '741 Wilfred Ave, Semiramis AZ, 17585', '629 Monaco Lane, Merritt CA, 28034', '888 Saunders Blvd, Katz VA, 32705', '713 Ferber Ave, Abram WA, 20470', '499 Moluccas Lane, Styrofoam TX, 41345', '573 Prado Court, Wadsworth TX, 96312', '685 Mennonite Blvd, Barstow MI, 12785', '326 Ozark Court, Cadillac OK, 26531', '704 Welles Ave, Cuzco DE, 93819', '717 Goldwater Court, Carr ND, 55905', '514 Raymond Blvd, Parsifal SD, 29759', '103 Sorensen Blvd, Burgundy WV, 66569', '297 Majorca Ave, Connally AZ, 42066', '579 Guilford Court, Tobago CA, 39008', '432 Mitchell Lane, Eugene TN, 78460', '936 Savannah Court, Kimball IN, 52558', '518 Uganda Court, Saturday OR, 37103', '177 Blvd Court, Cyril DE, 40925', '775 Schmitt Court, Australis NJ, 27523', '631 Tobago Blvd, Judd SD, 92027', '636 Latvia Court, Shelby WY, 87378', '390 Moghul Court, Segundo RI, 65107', '962 Waterloo Lane, Blackstone MN, 81088', '172 Orwellian Court, Ethel OR, 29739', \"782 I'll Lane, Honolulu TX, 93991\", '720 Malabar Lane, Vreeland AZ, 85997', '379 Snider Blvd, Asia WV, 28655', '919 Daedalus Lane, Lamarck SC, 98583', '308 Christianson Court, Syracuse IL, 99580', '991 Persephone Ave, FPC NM, 15028', '463 Ada Lane, Ithaca GA, 73449', '436 Mahayana Ave, Leighton FL, 68929', '459 Bunsen Ave, Ifni PA, 79250', '459 Braun Ave, Lynn SC, 27808', '985 Epsom Lane, Anderson AK, 52211', '385 Waals Blvd, Nelsen GA, 87077', '847 Armco Lane, Thoreau WV, 16839', '762 Yalta Ave, Hewett HI, 74725', '334 Heckman Blvd, Layton CO, 95696', '647 Viet Blvd, Perseid MA, 24554', '248 Ursuline Lane, Gina MN, 43232', '652 Creole Lane, Richmond WY, 86990', '926 Knossos Blvd, Copernicus OR, 30065', '711 Rena Court, Ron CT, 25748', '277 Bertie Ave, Belize MO, 39113', '398 Rockford Lane, Freetown AR, 33850', '714 Beebe Court, Martinique CT, 30324', '724 Allegheny Court, Luzon IL, 19508', '955 Sanchez Blvd, RI PA, 29565', '824 Bangladesh Court, Laocoon MI, 18114', '572 Armageddon Ave, Trobriand IN, 69661', '408 Beethoven Lane, Xhosa RI, 22591', '639 Feldman Lane, Zen NV, 72850', '600 Rubin Lane, Bunsen MT, 97376', '665 Pete Lane, Kettering MA, 38795', '571 Vought Lane, Shylock OR, 11405', '563 Verona Court, Haynes MN, 10344', '270 Appleby Blvd, Nepal WY, 76639', '123 Englander Court, Aegean DE, 46081', '668 Vaughan Lane, Philippine TN, 93605', '338 Sandia Blvd, Helmut HI, 41017', '611 Doreen Blvd, Hermes WV, 95221', '903 Yugoslavia Lane, Perez NY, 77966', '393 Cluj Court, Punjabi MS, 42233', '597 GE Blvd, Dallas MT, 25999', '435 Oxonian Lane, Travis CT, 81122', '431 Hieronymus Lane, Kingsbury GA, 16042', '392 Karl Ave, Fleming VT, 27298', '572 Modesto Court, Calder NC, 59166', '836 Chandigarh Blvd, Clinton ND, 63073', '780 Fiji Court, Carpathia ME, 98621', '607 Manila Lane, Vietnam MD, 19743', '143 Johnny Court, Indochinese OK, 36600', '426 Pittston Blvd, Poughkeepsie WA, 14258', '122 Aquinas Ave, George GA, 22837', '192 Sutherland Lane, Steen SC, 43097', '972 Barr Court, Han MN, 70898', '844 Mackey Court, McKesson DE, 47167', '116 Vientiane Blvd, Shasta HI, 16125', '805 Dobbs Lane, Wilma NM, 63774', '987 Manuel Lane, Falkland SD, 69124', '963 Cuzco Court, Bradley KY, 83141', '718 Cretaceous Blvd, Orin NY, 10229']\n"
     ]
    }
   ],
   "source": [
    "m = re.findall('Address: (.*?\\d{5})', data)\n",
    "\n",
    "print m"
   ]
  },
  {
   "cell_type": "markdown",
   "metadata": {
    "button": false,
    "deletable": true,
    "new_sheet": false,
    "run_control": {
     "read_only": false
    }
   },
   "source": [
    "### Which state had the most addresses in your data?"
   ]
  },
  {
   "cell_type": "code",
   "execution_count": 97,
   "metadata": {
    "button": false,
    "collapsed": false,
    "deletable": true,
    "new_sheet": false,
    "run_control": {
     "read_only": false
    }
   },
   "outputs": [
    {
     "name": "stdout",
     "output_type": "stream",
     "text": [
      "GA\n",
      "GA    23\n",
      "MO    20\n",
      "CO    20\n",
      "OR    20\n",
      "WV    20\n",
      "OK    20\n",
      "WY    20\n",
      "HI    19\n",
      "AZ    19\n",
      "KY    19\n",
      "CT    19\n",
      "ND    19\n",
      "FL    19\n",
      "SC    18\n",
      "MN    18\n",
      "NJ    18\n",
      "ID    18\n",
      "RI    17\n",
      "AR    17\n",
      "KS    17\n",
      "DC    17\n",
      "ME    16\n",
      "NY    16\n",
      "VA    16\n",
      "NC    15\n",
      "WI    15\n",
      "IN    15\n",
      "VT    15\n",
      "IL    15\n",
      "PA    15\n",
      "MS    14\n",
      "IA    14\n",
      "NE    14\n",
      "MA    14\n",
      "CA    14\n",
      "MI    13\n",
      "LA    13\n",
      "TX    13\n",
      "AK    13\n",
      "TN    12\n",
      "NM    12\n",
      "NH    12\n",
      "DE    11\n",
      "WA    11\n",
      "UT    11\n",
      "MT     9\n",
      "MD     9\n",
      "OH     9\n",
      "NV     8\n",
      "SD     7\n",
      "dtype: int64\n"
     ]
    }
   ],
   "source": [
    "import pandas as pd\n",
    "m = re.findall('Address:\\s+\\w*\\s+\\w*\\s+\\w*,\\s+\\w*\\s+(\\w*),\\s+\\w*', data)\n",
    "x = pd.Series(m)\n",
    "print \"GA\"\n",
    "print x.value_counts().sort_values(ascending = False)"
   ]
  },
  {
   "cell_type": "markdown",
   "metadata": {
    "button": false,
    "deletable": true,
    "new_sheet": false,
    "run_control": {
     "read_only": false
    }
   },
   "source": [
    "### Do we have any famous people in our data? \n",
    "#### Check to see if there are any user names that are also city/street names"
   ]
  },
  {
   "cell_type": "code",
   "execution_count": 109,
   "metadata": {
    "button": false,
    "collapsed": false,
    "deletable": true,
    "new_sheet": false,
    "run_control": {
     "read_only": false
    }
   },
   "outputs": [
    {
     "name": "stdout",
     "output_type": "stream",
     "text": [
      "['Wylie Fiji', 'Coleman Travis', 'Kowalski McKee', 'Calgary Jonas', 'Confucian Dada', 'Laszlo DARPA', 'Englishmen Aries', 'Salle Dominique', 'Spica Lipscomb', 'Xerxes Sofia', 'Adriatic Polynesia', 'Tigris Provence', 'Bradshaw Plato', 'Byzantium Balinese', 'Kajar Baptiste', 'Rubin Korea', 'Marcello Abe', 'Colby Bucknell', 'Deere Archibald', 'Sanchez Ortega', 'Crete Minnesota', 'Bini Heidegger', 'Swahili Bessel', 'Schantz Pickett', 'Anabaptist Klan', 'Neff Carolinian', 'Myers Italian', 'Goldwater Bissau', 'Aubrey Garfield', 'Hermann Heublein', 'Runge Bertie', 'Pluto Rumania', 'RSVP Hansel', 'Habib Christoffel', 'Whalen Citroen', 'Okinawa Watson', 'Edinburgh Lipscomb', 'Kampala Orleans', 'Wilfred Greensboro', 'Stephen Beethoven', 'Schultz Barth', 'Vreeland Pisces', 'Nichols Marseilles', 'Volterra Uganda', 'Corcoran Darrell', 'Alameda Berkowitz', 'Sloan SUNY', 'Guyana Allegheny', 'Churchillian February', 'Saigon Klan', 'Elizabeth Olga', 'Steele Inca', 'Monongahela Larsen', 'Markov Saskatchewan', 'Sidney McDonald', 'Astor Godfrey', 'Stuyvesant Doolittle', 'Larsen Platte', 'Prokofieff Karl', 'Guthrie Sumatra', 'Menelaus Dwyer', 'Jorgenson Janet', 'Bernadine Newfoundland', 'Auberge Cady', 'Fritz Stan', 'Muncie Malaysia', 'Peabody Natalie', 'Colette Standish', 'Halverson Marlowe', 'Bunsen Dusenbury', 'McGregor Knightsbridge', 'Adonis Hilbert', 'Willis Mackinac', 'Arden Bamberger', 'Welles FTC', 'Delia CIA', 'Howell Sparkman', 'Schumacher USC', 'Taiwan Marvin', 'Lev McLeod', 'Godwin Pete', 'Modesto Selma', 'Sandburg Maggie', 'Gotham Sousa', 'Clausen Anheuser', 'Papua Durer', 'Hoffman Honduras', 'Anna Borealis', 'Viet Italy', 'Indies Doreen', 'Libreville Sanhedrin', 'Krishna Erskine', 'Palo Donner', 'UN Rabin', 'Sheehan Joe', 'Casey Damon', 'Sandusky Dane', 'Ethel Scarsdale', 'Indochinese Ecole', 'Leona Henri', 'Armageddon Apocrypha', 'Steele Sylvester', 'Schmitt Elena', 'Reginald Adair', 'Durer Quichua', 'Renault Spain', 'Loeb Michaelangelo', 'Claremont Acadia', 'Ulster Groton', 'Menelaus Rica', 'Lesbian Saginaw', 'Gideon Laurie', 'Fredholm Szilard', 'Falstaff Danzig', 'Tiber Rutherford', 'Jane Massachusetts', 'Holbrook Augustus', 'Nantucket Ostrander', 'Whitlock Zagreb', 'Ohio Rockies', 'Grenoble Halsey', 'Ellwood Kieffer', 'Everhart Lisbon', 'Rollins Botswana', 'Lissajous Scranton', 'Madhya Agricola', 'QED Wilhelmina', 'Etruscan Bucknell', 'Packard Logan', 'Seagram Neanderthal', 'Frankfurt Litton', 'AMA Sorensen', 'Akers Adam', 'Gideon Giuseppe', 'POBox Perilla', 'Schottky Hermann', 'Pritchard Lindberg', 'Eileen NBS', 'Betelgeuse Knightsbridge', 'Boeing Leonardo', 'Santo Allyn', 'Brice Poynting', 'Voltaire Yalta', 'Connors Denebola', 'Vera Mann', 'Lev Gordon', 'Israelite Burt', 'Orphic Salisbury', 'Marjorie FM', 'Elijah Signora', 'Artie Negroes', 'Marcus Margaret', 'Vientiane IR', 'Fischbein Sussex', 'Boyd Fontainebleau', 'Cantabrigian Heidegger', 'Howe Italian', 'Ursuline Cynthia', 'Kresge Sybil', 'Durward Goff', 'Patrick Buckley', 'Flagler Curtis', 'Urquhart Capetown', 'Amadeus Jacobite', 'Mycenae Priestley', 'Vietnam Nicholas', 'Saturn Levis', 'Trobriand Elizabethan', 'Prentice Libreville', 'Felice Sparta', 'Bloomfield Hearst', 'Valparaiso Aeneas', 'Scheherazade Castillo', 'Waals Hurst', 'Procrustes Frye', 'Burch Leona', 'Provence Pillsbury', 'Guilford Squibb', 'Khmer Bangui', 'Welles Prometheus', 'Calkins Shakespeare', 'Carolina Boucher', 'Budweiser Denmark', 'Boyle Harriman', 'Jonas Vernon', 'Coleman Koch', 'Pl Kennedy', 'Afghanistan Devonshire', 'Hackett Rubin', 'Bohr Pollard', 'Agricola Lafayette', 'Paula Appleby', 'Mann Curtis', 'Donnelly Kepler', 'Cameroon Garry', 'EST Adriatic', 'Sousa Buick', 'Azores Leonardo', 'Annale Carpathia', 'Manville Englander', 'Bernstein Cobb', 'IA Muscovite', 'Sharpe Dominique', 'Brighton Mogadiscio', 'Pliocene Dayton', 'SSE Greenland', 'Diophantine Polk', 'Jacques Uruguay', 'Nat Adolph', 'Szilard Gobi', 'Angeles Posner', 'Williamson Vishnu', 'Hanukkah Mel', 'Burgundy Lachesis', 'Becky Danielson', 'Courtney Scranton', 'Lachesis Riordan', 'Salvatore Feeney', 'Laue Bernardo', 'Prokofieff Kernighan', 'Philip Utah', 'Pliocene Poe', 'Barton Annapolis', 'Rutledge Carson', 'Rosen Corcoran', 'Candide Johannes', 'Staunton Mitchell', 'Dorchester Dominic', 'Bella Bridgetown', 'Elizabethan Moline', 'Adair Pam', 'Hendrickson Bucharest', 'Cushman Perilla', 'Mesozoic Nancy', 'September Phil', 'Oscar Gerard', 'Protozoa GA', 'Callahan Tobago', 'Australia Boyce', 'Verdi Hughes', 'Zan Jules', 'Benedict Marianne', 'Carbone Irma', 'Dubhe Hanlon', 'Capetown Katowice', 'Antigone Orleans', 'McDermott Natalie', 'Castillo Joan', 'Kronecker Dubhe', 'Vikram Schmitt', 'Moghul Anthony', 'Ahmedabad Dunn', 'Montevideo Waldron', 'Whalen Agnes', 'Schiller Cluj', 'Crete Augean', 'Ralston Raphael', 'Tammany Havana', 'Mac Westfield', 'Flagler Anabaptist', 'Barrymore Clapeyron', 'Paoli Hernandez', 'Montgomery Lome', 'Auberge Missoula', 'Herman Eric', 'Moen Ababa', 'Vietnamese Ruben', 'Freddy Bernardino', 'Saigon Keynes', 'Typhon Christendom', 'Tyburn Dane', 'Citroen Sabina', 'Christina Philippine', 'Orca Boston', 'Saxony Sheehan', 'Barstow Ashmolean', 'Rabin Dan', 'Dodd Snider', 'Marie Patricia', 'Voltaire Tim', 'Virgo Davidson', 'USDA Elizabethan', 'Spokane Loire', 'CUNY Caesarian', 'MacArthur Alberta', 'Bessie Alberto', 'Yeager Imbrium', 'Saran Steele', 'Bridgetown Pascal', 'Scottish Portuguese', 'Kirkpatrick Wendy', 'Penelope September', 'McCarty Segundo', 'Katowice Fredrickson']\n"
     ]
    }
   ],
   "source": [
    "cities = re.findall('Address:\\s+\\w*\\s+\\w*\\s+\\w*,\\s+(\\w*)\\s+\\w*,\\s+\\w*', data)   \n",
    "streets = re.findall('Address:\\s+\\w*\\s+(\\w*)\\s+\\w*,\\s+\\w*\\s+\\w*,\\s+\\w*', data)\n",
    "names = re.findall('Name: (\\w*\\s\\w*)\\s?',data)\n",
    "\n",
    "famous = {}\n",
    "\n",
    "for name in names:\n",
    "    for city in cities:\n",
    "        if city in names:\n",
    "            famous[name] = [city]\n",
    "    for street in streets:\n",
    "        if street in name:\n",
    "            famous[name] = [street]\n",
    "\n",
    "print [x for x in famous]\n"
   ]
  },
  {
   "cell_type": "markdown",
   "metadata": {
    "button": false,
    "deletable": true,
    "new_sheet": false,
    "run_control": {
     "read_only": false
    }
   },
   "source": [
    "### What is the value count of the zipcodes in your addresses?"
   ]
  },
  {
   "cell_type": "code",
   "execution_count": 105,
   "metadata": {
    "button": false,
    "collapsed": false,
    "deletable": true,
    "new_sheet": false,
    "run_control": {
     "read_only": false
    }
   },
   "outputs": [
    {
     "data": {
      "text/plain": [
       "22591    2\n",
       "94953    2\n",
       "33228    1\n",
       "36310    1\n",
       "68679    1\n",
       "22532    1\n",
       "60067    1\n",
       "48762    1\n",
       "16863    1\n",
       "20416    1\n",
       "12381    1\n",
       "80729    1\n",
       "16125    1\n",
       "15958    1\n",
       "57115    1\n",
       "56175    1\n",
       "56177    1\n",
       "20725    1\n",
       "27872    1\n",
       "10659    1\n",
       "41042    1\n",
       "58353    1\n",
       "86665    1\n",
       "92221    1\n",
       "82302    1\n",
       "29971    1\n",
       "11903    1\n",
       "97343    1\n",
       "16042    1\n",
       "71233    1\n",
       "        ..\n",
       "15662    1\n",
       "49592    1\n",
       "25999    1\n",
       "58243    1\n",
       "84446    1\n",
       "16783    1\n",
       "87023    1\n",
       "78617    1\n",
       "42216    1\n",
       "20534    1\n",
       "46028    1\n",
       "25531    1\n",
       "78613    1\n",
       "79213    1\n",
       "39008    1\n",
       "53932    1\n",
       "73449    1\n",
       "87393    1\n",
       "12092    1\n",
       "51152    1\n",
       "16149    1\n",
       "55235    1\n",
       "81747    1\n",
       "20470    1\n",
       "12654    1\n",
       "13300    1\n",
       "32799    1\n",
       "47148    1\n",
       "67585    1\n",
       "15450    1\n",
       "dtype: int64"
      ]
     },
     "execution_count": 105,
     "metadata": {},
     "output_type": "execute_result"
    }
   ],
   "source": [
    "m = re.findall('\\d{5}', data)\n",
    "\n",
    "listy = pd.Series(m)\n",
    "\n",
    "listy.value_counts()\n"
   ]
  },
  {
   "cell_type": "code",
   "execution_count": null,
   "metadata": {
    "collapsed": true
   },
   "outputs": [],
   "source": []
  }
 ],
 "metadata": {
  "anaconda-cloud": {},
  "kernelspec": {
   "display_name": "Python [default]",
   "language": "python",
   "name": "python2"
  },
  "language_info": {
   "codemirror_mode": {
    "name": "ipython",
    "version": 2
   },
   "file_extension": ".py",
   "mimetype": "text/x-python",
   "name": "python",
   "nbconvert_exporter": "python",
   "pygments_lexer": "ipython2",
   "version": "2.7.12"
  }
 },
 "nbformat": 4,
 "nbformat_minor": 0
}
