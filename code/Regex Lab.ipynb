{
 "cells": [
  {
   "cell_type": "code",
   "execution_count": 1,
   "metadata": {
    "button": false,
    "collapsed": false,
    "deletable": true,
    "new_sheet": false,
    "run_control": {
     "read_only": false
    }
   },
   "outputs": [],
   "source": [
    "import requests\n",
    "import random\n",
    "import numpy as np\n",
    "\n",
    "word_site = \"http://svnweb.freebsd.org/csrg/share/dict/words?view=co&content-type=text/plain\"\n",
    "response = requests.get(word_site)\n",
    "WORDS = response.content.splitlines()\n",
    "proper = [word for word in WORDS if word[0].isupper()]\n",
    "not_proper = [word for word in WORDS if not word[0].isupper()]\n",
    "\n",
    "class formWords:\n",
    "    def __init__(self, proper, not_proper):\n",
    "        self.proper = proper\n",
    "        self.not_proper = not_proper\n",
    "        \n",
    "    def randomProper(self):\n",
    "        return self.proper[np.random.randint(0,len(self.proper))]\n",
    "    \n",
    "    def randomNonProper(self):\n",
    "        return self.not_proper[np.random.randint(0,len(self.not_proper))]\n",
    "        \n",
    "    def randomNumber(self,digits):\n",
    "        return str(random.sample(range(10 ** (digits - 1), 10 ** (digits)), 1)[0])\n",
    "    \n",
    "    def randomPostfix(self):\n",
    "        postfix = ['Street','Ave', 'Blvd', 'Lane', 'Court']\n",
    "        return postfix[np.random.randint(1,len(postfix))]\n",
    "    \n",
    "    def randomEmailProvider(self):\n",
    "        provider = ['gmail','yahoo', 'live', 'compuserve', 'aol']\n",
    "        return provider[np.random.randint(1,len(provider))]\n",
    "    \n",
    "    def randomState(self):\n",
    "        states = [\"AL\", \"AK\", \"AZ\", \"AR\", \"CA\", \"CO\", \"CT\", \"DC\", \"DE\", \"FL\", \"GA\", \n",
    "          \"HI\", \"ID\", \"IL\", \"IN\", \"IA\", \"KS\", \"KY\", \"LA\", \"ME\", \"MD\", \n",
    "          \"MA\", \"MI\", \"MN\", \"MS\", \"MO\", \"MT\", \"NE\", \"NV\", \"NH\", \"NJ\", \n",
    "          \"NM\", \"NY\", \"NC\", \"ND\", \"OH\", \"OK\", \"OR\", \"PA\", \"RI\", \"SC\", \n",
    "          \"SD\", \"TN\", \"TX\", \"UT\", \"VT\", \"VA\", \"WA\", \"WV\", \"WI\", \"WY\"]\n",
    "        return states[np.random.randint(1,len(states))]\n",
    "        \n",
    "    def generateText(self, blog_length):\n",
    "        form = self.getForm()\n",
    "        blog = []\n",
    "        for x in range(blog_length):\n",
    "            choice = np.random.randint(1,50)\n",
    "            if choice < 38:\n",
    "                blog += [self.randomNonProper()]\n",
    "            elif choice < 40:\n",
    "                blog += [form['email']()]\n",
    "            elif choice < 44:\n",
    "                blog += [form['name']()]\n",
    "            elif choice < 46:\n",
    "                blog += [form['password']()]\n",
    "            elif choice < 50:\n",
    "                blog += [form['address']()]\n",
    "    \n",
    "        return \" \".join(blog)\n",
    "\n",
    "    def getForm(self):\n",
    "        return {\n",
    "            'email' : lambda : \"Email: \" + self.randomNumber(4) + self.randomNonProper().lower() + \n",
    "                \"@\" + self.randomEmailProvider() + \".com\",\n",
    "            'name' : lambda : \"Name: \" + self.randomProper() + \" \" + self.randomProper(),\n",
    "            'password' : lambda : \"Password: \" + self.randomNumber(2) + self.randomNonProper() + \n",
    "                self.randomNumber(3) + self.randomProper().lower(),\n",
    "            'address' : lambda : \"Address: \" + self.randomNumber(3) + \" \" + self.randomProper() + \n",
    "                \" \" + self.randomPostfix() + \", \" + self.randomProper() + \" \" + self.randomState() + \n",
    "                \", \" + self.randomNumber(5),\n",
    "        }\n",
    "\n",
    "words = formWords(proper, not_proper)"
   ]
  },
  {
   "cell_type": "code",
   "execution_count": 85,
   "metadata": {
    "button": false,
    "collapsed": false,
    "deletable": true,
    "new_sheet": false,
    "run_control": {
     "read_only": false
    }
   },
   "outputs": [
    {
     "name": "stdout",
     "output_type": "stream",
     "text": [
      "Email: 3157matins@yahoo.com\n",
      "Name: Fraser Yvette\n",
      "Password: 65raj911ankara\n",
      "Address: 582 Agnew Court, Menzies TN, 45365\n"
     ]
    }
   ],
   "source": [
    "print words.getForm()['email']()\n",
    "print words.getForm()['name']()\n",
    "print words.getForm()['password']()\n",
    "print words.getForm()['address']()\n",
    "\n",
    "#This is the data variable\n",
    "data = words.generateText(10000)\n",
    "print data[:100]"
   ]
  },
  {
   "cell_type": "markdown",
   "metadata": {
    "button": false,
    "deletable": true,
    "new_sheet": false,
    "run_control": {
     "read_only": false
    }
   },
   "source": [
    "### Pull all the emails from the data variable"
   ]
  },
  {
   "cell_type": "code",
   "execution_count": null,
   "metadata": {
    "button": false,
    "collapsed": false,
    "deletable": true,
    "new_sheet": false,
    "run_control": {
     "read_only": false
    }
   },
   "outputs": [],
   "source": []
  },
  {
   "cell_type": "markdown",
   "metadata": {
    "button": false,
    "deletable": true,
    "new_sheet": false,
    "run_control": {
     "read_only": false
    }
   },
   "source": [
    "### Pull all the names from the data variable"
   ]
  },
  {
   "cell_type": "code",
   "execution_count": null,
   "metadata": {
    "button": false,
    "collapsed": true,
    "deletable": true,
    "new_sheet": false,
    "run_control": {
     "read_only": false
    }
   },
   "outputs": [],
   "source": []
  },
  {
   "cell_type": "markdown",
   "metadata": {
    "button": false,
    "deletable": true,
    "new_sheet": false,
    "run_control": {
     "read_only": false
    }
   },
   "source": [
    "### Pull all the passwords from the data variable"
   ]
  },
  {
   "cell_type": "code",
   "execution_count": null,
   "metadata": {
    "button": false,
    "collapsed": true,
    "deletable": true,
    "new_sheet": false,
    "run_control": {
     "read_only": false
    }
   },
   "outputs": [],
   "source": []
  },
  {
   "cell_type": "markdown",
   "metadata": {
    "button": false,
    "deletable": true,
    "new_sheet": false,
    "run_control": {
     "read_only": false
    }
   },
   "source": [
    "### Pull all the addresses from the data variable"
   ]
  },
  {
   "cell_type": "code",
   "execution_count": null,
   "metadata": {
    "button": false,
    "collapsed": true,
    "deletable": true,
    "new_sheet": false,
    "run_control": {
     "read_only": false
    }
   },
   "outputs": [],
   "source": []
  },
  {
   "cell_type": "markdown",
   "metadata": {
    "button": false,
    "deletable": true,
    "new_sheet": false,
    "run_control": {
     "read_only": false
    }
   },
   "source": [
    "### Which state had the most addresses in your data?"
   ]
  },
  {
   "cell_type": "code",
   "execution_count": null,
   "metadata": {
    "button": false,
    "collapsed": true,
    "deletable": true,
    "new_sheet": false,
    "run_control": {
     "read_only": false
    }
   },
   "outputs": [],
   "source": []
  },
  {
   "cell_type": "markdown",
   "metadata": {
    "button": false,
    "deletable": true,
    "new_sheet": false,
    "run_control": {
     "read_only": false
    }
   },
   "source": [
    "### Do we have any famous people in our data? \n",
    "#### Check to see if there are any user names that are also city/street names"
   ]
  },
  {
   "cell_type": "code",
   "execution_count": null,
   "metadata": {
    "button": false,
    "collapsed": true,
    "deletable": true,
    "new_sheet": false,
    "run_control": {
     "read_only": false
    }
   },
   "outputs": [],
   "source": []
  },
  {
   "cell_type": "markdown",
   "metadata": {
    "button": false,
    "deletable": true,
    "new_sheet": false,
    "run_control": {
     "read_only": false
    }
   },
   "source": [
    "### What is the value count of the zipcodes in your addresses?"
   ]
  },
  {
   "cell_type": "code",
   "execution_count": null,
   "metadata": {
    "button": false,
    "collapsed": true,
    "deletable": true,
    "new_sheet": false,
    "run_control": {
     "read_only": false
    }
   },
   "outputs": [],
   "source": []
  }
 ],
 "metadata": {
  "kernelspec": {
   "display_name": "Python 2",
   "language": "python",
   "name": "python2"
  },
  "language_info": {
   "codemirror_mode": {
    "name": "ipython",
    "version": 2
   },
   "file_extension": ".py",
   "mimetype": "text/x-python",
   "name": "python",
   "nbconvert_exporter": "python",
   "pygments_lexer": "ipython2",
   "version": "2.7"
  }
 },
 "nbformat": 4,
 "nbformat_minor": 0
}
